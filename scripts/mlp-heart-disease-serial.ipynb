{
 "cells": [
  {
   "cell_type": "code",
   "execution_count": 1,
   "metadata": {},
   "outputs": [
    {
     "name": "stderr",
     "output_type": "stream",
     "text": [
      "c:\\Users\\ljmatovic\\AppData\\Local\\Programs\\Python\\Python310\\lib\\site-packages\\tqdm\\auto.py:21: TqdmWarning: IProgress not found. Please update jupyter and ipywidgets. See https://ipywidgets.readthedocs.io/en/stable/user_install.html\n",
      "  from .autonotebook import tqdm as notebook_tqdm\n"
     ]
    }
   ],
   "source": [
    "# Import modules\n",
    "\n",
    "import numpy as np\n",
    "import pandas as pd\n",
    "from sklearn.preprocessing import LabelEncoder, MinMaxScaler\n",
    "from sklearn.model_selection import train_test_split\n",
    "from sklearn.metrics import f1_score\n",
    "from sklearn.neural_network import MLPClassifier\n",
    "import time\n",
    "import optuna"
   ]
  },
  {
   "cell_type": "code",
   "execution_count": 2,
   "metadata": {},
   "outputs": [],
   "source": [
    "optimization_time_in_seconds = -time.time()"
   ]
  },
  {
   "cell_type": "code",
   "execution_count": 3,
   "metadata": {},
   "outputs": [],
   "source": [
    "# Load and prepare data\n",
    "\n",
    "df = pd.read_csv(\"heart_2022_with_nans.csv\")\n",
    "\n",
    "df.drop_duplicates(inplace=True)\n",
    "\n",
    "for col in df.columns:\n",
    "    if df[col].dtype == 'object':\n",
    "        min_value = df[col].dropna().mode().iloc[0]\n",
    "        df[col] = df[col].fillna(min_value)\n",
    "    else:\n",
    "        mean_value = df[col].mean()\n",
    "        df[col] = df[col].fillna(mean_value)\n",
    "\n",
    "def bmi_category(bmi):\n",
    "    if bmi > 24.9:\n",
    "        return 'Above Normal'\n",
    "    elif bmi >= 18.5 and bmi <= 24.9:\n",
    "        return 'Normal'\n",
    "    else:\n",
    "        return 'Below Normal'\n",
    "\n",
    "# Apply the function to create a new column 'bmi_category'\n",
    "df['bmi_category'] = df['BMI'].apply(bmi_category)\n",
    "\n",
    "for col in df.select_dtypes(include='object').columns:\n",
    "    encoder = LabelEncoder()\n",
    "    df[col] = encoder.fit_transform(df[col])\n",
    "\n",
    "correlation_matrix = df.corr()\n",
    "strong_correlation_cols = [col for col in correlation_matrix.columns if abs(correlation_matrix.loc['HadHeartAttack', col]) >= 0.06 and col != 'HadHeartAttack']\n",
    "\n",
    "# Select features (X) and target (y)\n",
    "X = df[strong_correlation_cols]\n",
    "y = df['HadHeartAttack']\n",
    "\n",
    "s = MinMaxScaler()\n",
    "X = s.fit_transform(X)\n",
    "\n",
    "# Split data to train and test sets\n",
    "\n",
    "x_train,x_test,y_train,y_test = train_test_split(X, y, test_size=0.2, random_state=12)\n"
   ]
  },
  {
   "cell_type": "code",
   "execution_count": 4,
   "metadata": {},
   "outputs": [],
   "source": [
    "# Defining objective function\n",
    "\n",
    "def objective(trial: optuna.Trial):\n",
    "    global x_train, x_test, y_train, y_test\n",
    "\n",
    "    n_layers = trial.suggest_int('n_layers', 1, 4)\n",
    "\n",
    "    per_layer = 100 // n_layers\n",
    "\n",
    "    layers = [trial.suggest_int(f'n_units_{i}', per_layer, per_layer) for i in range(n_layers)]\n",
    "    \n",
    "    for i in range(n_layers, 4):\n",
    "        trial.suggest_int(f'n_units_{i}', 0, 0)\n",
    "\n",
    "    activation = trial.suggest_categorical('activation', ['identity', 'logistic', 'tanh', 'relu'])\n",
    "    solver = trial.suggest_categorical('solver', ['lbfgs', 'sgd', 'adam'])\n",
    "    alpha = trial.suggest_float('alpha', 0.00001, 0.3)\n",
    "    learning_rate = trial.suggest_categorical('learning_rate', ['constant', 'invscaling', 'adaptive'])\n",
    "    \n",
    "    clf =  MLPClassifier(hidden_layer_sizes=tuple(layers), activation=activation, solver=solver, alpha=alpha, learning_rate=learning_rate, max_iter=200)\n",
    "    clf.fit(x_train, y_train)\n",
    "\n",
    "    y_pred = clf.predict(x_test)\n",
    "    \n",
    "    return f1_score(y_test, y_pred)\n"
   ]
  },
  {
   "cell_type": "code",
   "execution_count": 5,
   "metadata": {},
   "outputs": [
    {
     "name": "stderr",
     "output_type": "stream",
     "text": [
      "[I 2024-08-12 08:56:18,238] A new study created in memory with name: MLPClassifier\n",
      "[I 2024-08-12 08:59:10,786] Trial 0 finished with value: 0.24295432458697766 and parameters: {'n_layers': 3, 'n_units_0': 33, 'n_units_1': 33, 'n_units_2': 33, 'n_units_3': 0, 'activation': 'logistic', 'solver': 'adam', 'alpha': 0.01243609576889099, 'learning_rate': 'constant'}. Best is trial 0 with value: 0.24295432458697766.\n",
      "[I 2024-08-12 09:00:26,323] Trial 1 finished with value: 0.28972675927339336 and parameters: {'n_layers': 3, 'n_units_0': 33, 'n_units_1': 33, 'n_units_2': 33, 'n_units_3': 0, 'activation': 'relu', 'solver': 'sgd', 'alpha': 0.001312567669799098, 'learning_rate': 'adaptive'}. Best is trial 1 with value: 0.28972675927339336.\n",
      "[I 2024-08-12 09:00:48,442] Trial 2 finished with value: 0.0 and parameters: {'n_layers': 4, 'n_units_0': 25, 'n_units_1': 25, 'n_units_2': 25, 'n_units_3': 25, 'activation': 'logistic', 'solver': 'lbfgs', 'alpha': 0.22643358778933215, 'learning_rate': 'constant'}. Best is trial 1 with value: 0.28972675927339336.\n",
      "[I 2024-08-12 09:01:16,478] Trial 3 finished with value: 0.13232377861907338 and parameters: {'n_layers': 2, 'n_units_0': 50, 'n_units_1': 50, 'n_units_2': 0, 'n_units_3': 0, 'activation': 'tanh', 'solver': 'sgd', 'alpha': 0.07445954377761878, 'learning_rate': 'invscaling'}. Best is trial 1 with value: 0.28972675927339336.\n",
      "[I 2024-08-12 09:01:27,409] Trial 4 finished with value: 0.317115551694179 and parameters: {'n_layers': 1, 'n_units_0': 100, 'n_units_1': 0, 'n_units_2': 0, 'n_units_3': 0, 'activation': 'identity', 'solver': 'lbfgs', 'alpha': 0.14109636326312364, 'learning_rate': 'adaptive'}. Best is trial 4 with value: 0.317115551694179.\n",
      "[I 2024-08-12 09:03:45,861] Trial 5 finished with value: 0.30050580184468906 and parameters: {'n_layers': 1, 'n_units_0': 100, 'n_units_1': 0, 'n_units_2': 0, 'n_units_3': 0, 'activation': 'relu', 'solver': 'lbfgs', 'alpha': 0.08672138336106898, 'learning_rate': 'adaptive'}. Best is trial 4 with value: 0.317115551694179.\n",
      "[I 2024-08-12 09:04:09,473] Trial 6 finished with value: 0.0 and parameters: {'n_layers': 4, 'n_units_0': 25, 'n_units_1': 25, 'n_units_2': 25, 'n_units_3': 25, 'activation': 'logistic', 'solver': 'lbfgs', 'alpha': 0.13222767416408673, 'learning_rate': 'invscaling'}. Best is trial 4 with value: 0.317115551694179.\n",
      "[I 2024-08-12 09:04:33,698] Trial 7 finished with value: 0.3400696864111498 and parameters: {'n_layers': 3, 'n_units_0': 33, 'n_units_1': 33, 'n_units_2': 33, 'n_units_3': 0, 'activation': 'identity', 'solver': 'adam', 'alpha': 0.15408293792581104, 'learning_rate': 'constant'}. Best is trial 7 with value: 0.3400696864111498.\n",
      "[I 2024-08-12 09:04:44,558] Trial 8 finished with value: 0.2446043165467626 and parameters: {'n_layers': 3, 'n_units_0': 33, 'n_units_1': 33, 'n_units_2': 33, 'n_units_3': 0, 'activation': 'identity', 'solver': 'sgd', 'alpha': 0.147363641435878, 'learning_rate': 'invscaling'}. Best is trial 7 with value: 0.3400696864111498.\n",
      "[I 2024-08-12 09:08:02,849] Trial 9 finished with value: 0.31522214129643117 and parameters: {'n_layers': 4, 'n_units_0': 25, 'n_units_1': 25, 'n_units_2': 25, 'n_units_3': 25, 'activation': 'identity', 'solver': 'sgd', 'alpha': 0.09430576493463348, 'learning_rate': 'adaptive'}. Best is trial 7 with value: 0.3400696864111498.\n",
      "[I 2024-08-12 09:08:32,271] Trial 10 finished with value: 0.3236274083731711 and parameters: {'n_layers': 2, 'n_units_0': 50, 'n_units_1': 50, 'n_units_2': 0, 'n_units_3': 0, 'activation': 'tanh', 'solver': 'adam', 'alpha': 0.2980622078069771, 'learning_rate': 'constant'}. Best is trial 7 with value: 0.3400696864111498.\n",
      "[I 2024-08-12 09:08:50,267] Trial 11 finished with value: 0.23399054912823855 and parameters: {'n_layers': 2, 'n_units_0': 50, 'n_units_1': 50, 'n_units_2': 0, 'n_units_3': 0, 'activation': 'tanh', 'solver': 'adam', 'alpha': 0.2728118110901728, 'learning_rate': 'constant'}. Best is trial 7 with value: 0.3400696864111498.\n",
      "[I 2024-08-12 09:09:23,671] Trial 12 finished with value: 0.2719325632219794 and parameters: {'n_layers': 2, 'n_units_0': 50, 'n_units_1': 50, 'n_units_2': 0, 'n_units_3': 0, 'activation': 'tanh', 'solver': 'adam', 'alpha': 0.21764807854320384, 'learning_rate': 'constant'}. Best is trial 7 with value: 0.3400696864111498.\n",
      "[I 2024-08-12 09:09:40,144] Trial 13 finished with value: 0.26706324358171574 and parameters: {'n_layers': 2, 'n_units_0': 50, 'n_units_1': 50, 'n_units_2': 0, 'n_units_3': 0, 'activation': 'identity', 'solver': 'adam', 'alpha': 0.2910928011678532, 'learning_rate': 'constant'}. Best is trial 7 with value: 0.3400696864111498.\n",
      "[I 2024-08-12 09:10:08,357] Trial 14 finished with value: 0.3683433936955064 and parameters: {'n_layers': 3, 'n_units_0': 33, 'n_units_1': 33, 'n_units_2': 33, 'n_units_3': 0, 'activation': 'tanh', 'solver': 'adam', 'alpha': 0.21774785934557073, 'learning_rate': 'constant'}. Best is trial 14 with value: 0.3683433936955064.\n",
      "[I 2024-08-12 09:10:38,992] Trial 15 finished with value: 0.16366207140332273 and parameters: {'n_layers': 3, 'n_units_0': 33, 'n_units_1': 33, 'n_units_2': 33, 'n_units_3': 0, 'activation': 'tanh', 'solver': 'adam', 'alpha': 0.19832862177993982, 'learning_rate': 'constant'}. Best is trial 14 with value: 0.3683433936955064.\n",
      "[I 2024-08-12 09:10:55,809] Trial 16 finished with value: 0.26374314800313237 and parameters: {'n_layers': 3, 'n_units_0': 33, 'n_units_1': 33, 'n_units_2': 33, 'n_units_3': 0, 'activation': 'identity', 'solver': 'adam', 'alpha': 0.1834245735139922, 'learning_rate': 'constant'}. Best is trial 14 with value: 0.3683433936955064.\n",
      "[I 2024-08-12 09:11:41,294] Trial 17 finished with value: 0.29469548133595286 and parameters: {'n_layers': 4, 'n_units_0': 25, 'n_units_1': 25, 'n_units_2': 25, 'n_units_3': 25, 'activation': 'relu', 'solver': 'adam', 'alpha': 0.24952095107405137, 'learning_rate': 'constant'}. Best is trial 14 with value: 0.3683433936955064.\n",
      "[I 2024-08-12 09:11:58,270] Trial 18 finished with value: 0.25223499361430396 and parameters: {'n_layers': 3, 'n_units_0': 33, 'n_units_1': 33, 'n_units_2': 33, 'n_units_3': 0, 'activation': 'identity', 'solver': 'adam', 'alpha': 0.17164941334477732, 'learning_rate': 'constant'}. Best is trial 14 with value: 0.3683433936955064.\n",
      "[I 2024-08-12 09:12:33,500] Trial 19 finished with value: 0.31399116347569955 and parameters: {'n_layers': 4, 'n_units_0': 25, 'n_units_1': 25, 'n_units_2': 25, 'n_units_3': 25, 'activation': 'tanh', 'solver': 'adam', 'alpha': 0.11653799191666478, 'learning_rate': 'invscaling'}. Best is trial 14 with value: 0.3683433936955064.\n",
      "[I 2024-08-12 09:13:10,529] Trial 20 finished with value: 0.3447985399410361 and parameters: {'n_layers': 3, 'n_units_0': 33, 'n_units_1': 33, 'n_units_2': 33, 'n_units_3': 0, 'activation': 'tanh', 'solver': 'adam', 'alpha': 0.05780618767431764, 'learning_rate': 'constant'}. Best is trial 14 with value: 0.3683433936955064.\n",
      "[I 2024-08-12 09:14:09,414] Trial 21 finished with value: 0.26479406659302507 and parameters: {'n_layers': 3, 'n_units_0': 33, 'n_units_1': 33, 'n_units_2': 33, 'n_units_3': 0, 'activation': 'tanh', 'solver': 'adam', 'alpha': 0.040165147941375545, 'learning_rate': 'constant'}. Best is trial 14 with value: 0.3683433936955064.\n",
      "[I 2024-08-12 09:14:51,439] Trial 22 finished with value: 0.37648630594522375 and parameters: {'n_layers': 3, 'n_units_0': 33, 'n_units_1': 33, 'n_units_2': 33, 'n_units_3': 0, 'activation': 'tanh', 'solver': 'adam', 'alpha': 0.050013143409612285, 'learning_rate': 'constant'}. Best is trial 22 with value: 0.37648630594522375.\n",
      "[I 2024-08-12 09:15:14,817] Trial 23 finished with value: 0.27737451737451735 and parameters: {'n_layers': 3, 'n_units_0': 33, 'n_units_1': 33, 'n_units_2': 33, 'n_units_3': 0, 'activation': 'tanh', 'solver': 'adam', 'alpha': 0.046031002201430755, 'learning_rate': 'constant'}. Best is trial 22 with value: 0.37648630594522375.\n",
      "[I 2024-08-12 09:15:41,931] Trial 24 finished with value: 0.3182751540041068 and parameters: {'n_layers': 2, 'n_units_0': 50, 'n_units_1': 50, 'n_units_2': 0, 'n_units_3': 0, 'activation': 'tanh', 'solver': 'adam', 'alpha': 0.05925940780634719, 'learning_rate': 'constant'}. Best is trial 22 with value: 0.37648630594522375.\n",
      "[I 2024-08-12 09:16:42,518] Trial 25 finished with value: 0.31442463533225284 and parameters: {'n_layers': 3, 'n_units_0': 33, 'n_units_1': 33, 'n_units_2': 33, 'n_units_3': 0, 'activation': 'tanh', 'solver': 'adam', 'alpha': 0.023214963759013885, 'learning_rate': 'constant'}. Best is trial 22 with value: 0.37648630594522375.\n",
      "[I 2024-08-12 09:17:17,774] Trial 26 finished with value: 0.3348610713262675 and parameters: {'n_layers': 4, 'n_units_0': 25, 'n_units_1': 25, 'n_units_2': 25, 'n_units_3': 25, 'activation': 'tanh', 'solver': 'adam', 'alpha': 0.10742736071230433, 'learning_rate': 'constant'}. Best is trial 22 with value: 0.37648630594522375.\n",
      "[I 2024-08-12 09:17:42,437] Trial 27 finished with value: 0.389967845659164 and parameters: {'n_layers': 3, 'n_units_0': 33, 'n_units_1': 33, 'n_units_2': 33, 'n_units_3': 0, 'activation': 'tanh', 'solver': 'adam', 'alpha': 0.06792533083487824, 'learning_rate': 'constant'}. Best is trial 27 with value: 0.389967845659164.\n",
      "[I 2024-08-12 09:21:03,983] Trial 28 finished with value: 0.31289891643164613 and parameters: {'n_layers': 2, 'n_units_0': 50, 'n_units_1': 50, 'n_units_2': 0, 'n_units_3': 0, 'activation': 'tanh', 'solver': 'lbfgs', 'alpha': 0.02478364524228352, 'learning_rate': 'invscaling'}. Best is trial 27 with value: 0.389967845659164.\n",
      "[I 2024-08-12 09:29:23,955] Trial 29 finished with value: 0.0 and parameters: {'n_layers': 3, 'n_units_0': 33, 'n_units_1': 33, 'n_units_2': 33, 'n_units_3': 0, 'activation': 'logistic', 'solver': 'sgd', 'alpha': 0.23753630267189074, 'learning_rate': 'adaptive'}. Best is trial 27 with value: 0.389967845659164.\n",
      "[I 2024-08-12 09:30:02,515] Trial 30 finished with value: 0.3681726230613621 and parameters: {'n_layers': 4, 'n_units_0': 25, 'n_units_1': 25, 'n_units_2': 25, 'n_units_3': 25, 'activation': 'tanh', 'solver': 'adam', 'alpha': 0.06823494871098112, 'learning_rate': 'constant'}. Best is trial 27 with value: 0.389967845659164.\n",
      "[I 2024-08-12 09:30:27,516] Trial 31 finished with value: 0.22983207112281856 and parameters: {'n_layers': 4, 'n_units_0': 25, 'n_units_1': 25, 'n_units_2': 25, 'n_units_3': 25, 'activation': 'tanh', 'solver': 'adam', 'alpha': 0.0794956954292097, 'learning_rate': 'constant'}. Best is trial 27 with value: 0.389967845659164.\n",
      "[I 2024-08-12 09:31:25,723] Trial 32 finished with value: 0.2775371287128713 and parameters: {'n_layers': 4, 'n_units_0': 25, 'n_units_1': 25, 'n_units_2': 25, 'n_units_3': 25, 'activation': 'tanh', 'solver': 'adam', 'alpha': 0.0005431497984748068, 'learning_rate': 'constant'}. Best is trial 27 with value: 0.389967845659164.\n",
      "[I 2024-08-12 09:34:24,100] Trial 33 finished with value: 0.3425398633257403 and parameters: {'n_layers': 3, 'n_units_0': 33, 'n_units_1': 33, 'n_units_2': 33, 'n_units_3': 0, 'activation': 'relu', 'solver': 'adam', 'alpha': 0.06218398718299896, 'learning_rate': 'constant'}. Best is trial 27 with value: 0.389967845659164.\n",
      "[I 2024-08-12 09:35:50,049] Trial 34 finished with value: 0.28830188679245283 and parameters: {'n_layers': 3, 'n_units_0': 33, 'n_units_1': 33, 'n_units_2': 33, 'n_units_3': 0, 'activation': 'logistic', 'solver': 'adam', 'alpha': 0.10623156445884448, 'learning_rate': 'constant'}. Best is trial 27 with value: 0.389967845659164.\n",
      "[I 2024-08-12 09:36:29,885] Trial 35 finished with value: 0.29529394076078785 and parameters: {'n_layers': 4, 'n_units_0': 25, 'n_units_1': 25, 'n_units_2': 25, 'n_units_3': 25, 'activation': 'tanh', 'solver': 'sgd', 'alpha': 0.03005692245318831, 'learning_rate': 'constant'}. Best is trial 27 with value: 0.389967845659164.\n",
      "[I 2024-08-12 09:39:29,905] Trial 36 finished with value: 0.31168057210965433 and parameters: {'n_layers': 1, 'n_units_0': 100, 'n_units_1': 0, 'n_units_2': 0, 'n_units_3': 0, 'activation': 'tanh', 'solver': 'lbfgs', 'alpha': 0.12647672527342413, 'learning_rate': 'adaptive'}. Best is trial 27 with value: 0.389967845659164.\n",
      "[I 2024-08-12 09:46:10,788] Trial 37 finished with value: 0.23800195886385897 and parameters: {'n_layers': 4, 'n_units_0': 25, 'n_units_1': 25, 'n_units_2': 25, 'n_units_3': 25, 'activation': 'relu', 'solver': 'adam', 'alpha': 0.07007167060938348, 'learning_rate': 'constant'}. Best is trial 27 with value: 0.389967845659164.\n",
      "c:\\Users\\ljmatovic\\AppData\\Local\\Programs\\Python\\Python310\\lib\\site-packages\\sklearn\\neural_network\\_multilayer_perceptron.py:545: ConvergenceWarning: lbfgs failed to converge (status=1):\n",
      "STOP: TOTAL NO. of ITERATIONS REACHED LIMIT.\n",
      "\n",
      "Increase the number of iterations (max_iter) or scale the data as shown in:\n",
      "    https://scikit-learn.org/stable/modules/preprocessing.html\n",
      "  self.n_iter_ = _check_optimize_result(\"lbfgs\", opt_res, self.max_iter)\n",
      "[I 2024-08-12 09:53:16,550] Trial 38 finished with value: 0.3016304347826087 and parameters: {'n_layers': 3, 'n_units_0': 33, 'n_units_1': 33, 'n_units_2': 33, 'n_units_3': 0, 'activation': 'tanh', 'solver': 'lbfgs', 'alpha': 0.08958592580139721, 'learning_rate': 'invscaling'}. Best is trial 27 with value: 0.389967845659164.\n",
      "[I 2024-08-12 09:55:43,171] Trial 39 finished with value: 0.2605811749842072 and parameters: {'n_layers': 3, 'n_units_0': 33, 'n_units_1': 33, 'n_units_2': 33, 'n_units_3': 0, 'activation': 'logistic', 'solver': 'adam', 'alpha': 0.0443727132120712, 'learning_rate': 'adaptive'}. Best is trial 27 with value: 0.389967845659164.\n",
      "[I 2024-08-12 09:56:37,465] Trial 40 finished with value: 0.30164917541229386 and parameters: {'n_layers': 1, 'n_units_0': 100, 'n_units_1': 0, 'n_units_2': 0, 'n_units_3': 0, 'activation': 'tanh', 'solver': 'sgd', 'alpha': 0.20444315745335676, 'learning_rate': 'constant'}. Best is trial 27 with value: 0.389967845659164.\n",
      "[I 2024-08-12 09:57:03,943] Trial 41 finished with value: 0.1478292070326516 and parameters: {'n_layers': 3, 'n_units_0': 33, 'n_units_1': 33, 'n_units_2': 33, 'n_units_3': 0, 'activation': 'tanh', 'solver': 'adam', 'alpha': 0.059022299881501206, 'learning_rate': 'constant'}. Best is trial 27 with value: 0.389967845659164.\n",
      "[I 2024-08-12 09:57:30,173] Trial 42 finished with value: 0.3128807012331006 and parameters: {'n_layers': 3, 'n_units_0': 33, 'n_units_1': 33, 'n_units_2': 33, 'n_units_3': 0, 'activation': 'tanh', 'solver': 'adam', 'alpha': 0.009121104830057403, 'learning_rate': 'constant'}. Best is trial 27 with value: 0.389967845659164.\n",
      "[I 2024-08-12 09:57:48,839] Trial 43 finished with value: 0.2599209486166008 and parameters: {'n_layers': 2, 'n_units_0': 50, 'n_units_1': 50, 'n_units_2': 0, 'n_units_3': 0, 'activation': 'tanh', 'solver': 'adam', 'alpha': 0.15839902479155935, 'learning_rate': 'constant'}. Best is trial 27 with value: 0.389967845659164.\n",
      "[I 2024-08-12 09:58:09,524] Trial 44 finished with value: 0.27998147862324435 and parameters: {'n_layers': 3, 'n_units_0': 33, 'n_units_1': 33, 'n_units_2': 33, 'n_units_3': 0, 'activation': 'tanh', 'solver': 'adam', 'alpha': 0.09652778654232187, 'learning_rate': 'constant'}. Best is trial 27 with value: 0.389967845659164.\n",
      "[I 2024-08-12 09:58:33,062] Trial 45 finished with value: 0.2307565518378111 and parameters: {'n_layers': 4, 'n_units_0': 25, 'n_units_1': 25, 'n_units_2': 25, 'n_units_3': 25, 'activation': 'tanh', 'solver': 'adam', 'alpha': 0.07257877074736177, 'learning_rate': 'constant'}. Best is trial 27 with value: 0.389967845659164.\n",
      "[I 2024-08-12 10:03:32,518] Trial 46 finished with value: 0.30741626794258375 and parameters: {'n_layers': 3, 'n_units_0': 33, 'n_units_1': 33, 'n_units_2': 33, 'n_units_3': 0, 'activation': 'tanh', 'solver': 'lbfgs', 'alpha': 0.04729169221570431, 'learning_rate': 'invscaling'}. Best is trial 27 with value: 0.389967845659164.\n",
      "[I 2024-08-12 10:04:17,112] Trial 47 finished with value: 0.33039965372962055 and parameters: {'n_layers': 2, 'n_units_0': 50, 'n_units_1': 50, 'n_units_2': 0, 'n_units_3': 0, 'activation': 'relu', 'solver': 'adam', 'alpha': 0.13910518661065813, 'learning_rate': 'constant'}. Best is trial 27 with value: 0.389967845659164.\n",
      "[I 2024-08-12 10:05:58,249] Trial 48 finished with value: 0.27310600216016045 and parameters: {'n_layers': 3, 'n_units_0': 33, 'n_units_1': 33, 'n_units_2': 33, 'n_units_3': 0, 'activation': 'logistic', 'solver': 'adam', 'alpha': 0.08118860349507531, 'learning_rate': 'adaptive'}. Best is trial 27 with value: 0.389967845659164.\n",
      "[I 2024-08-12 10:07:51,550] Trial 49 finished with value: 0.2574194572290113 and parameters: {'n_layers': 4, 'n_units_0': 25, 'n_units_1': 25, 'n_units_2': 25, 'n_units_3': 25, 'activation': 'tanh', 'solver': 'sgd', 'alpha': 0.26950412343651475, 'learning_rate': 'constant'}. Best is trial 27 with value: 0.389967845659164.\n"
     ]
    }
   ],
   "source": [
    "study = optuna.create_study(study_name=\"MLPClassifier\", direction='maximize')\n",
    "\n",
    "#optimization_time_in_seconds = -time.time()\n",
    "\n",
    "study.optimize(objective, n_trials=50)"
   ]
  },
  {
   "cell_type": "code",
   "execution_count": 6,
   "metadata": {},
   "outputs": [],
   "source": [
    "optimization_time_in_seconds += time.time()"
   ]
  },
  {
   "cell_type": "code",
   "execution_count": 7,
   "metadata": {},
   "outputs": [
    {
     "name": "stdout",
     "output_type": "stream",
     "text": [
      "Best params: {'n_layers': 3, 'n_units_0': 33, 'n_units_1': 33, 'n_units_2': 33, 'n_units_3': 0, 'activation': 'tanh', 'solver': 'adam', 'alpha': 0.06792533083487824, 'learning_rate': 'constant'}\n",
      "Best value: 0.389967845659164\n",
      "Optimization time: 1 h 11 m 39.588736057281494 s\n"
     ]
    }
   ],
   "source": [
    "print(\"Best params:\", study.best_params)\n",
    "print(\"Best value:\", study.best_value)\n",
    "hours = int(optimization_time_in_seconds) // 3600\n",
    "minutes = (int(optimization_time_in_seconds) // 60) % 60\n",
    "seconds = int(optimization_time_in_seconds)\n",
    "seconds = seconds % 60 + (optimization_time_in_seconds - int(optimization_time_in_seconds))    \n",
    "print(\"Optimization time: {} h {} m {} s\".format(hours, minutes, seconds))"
   ]
  }
 ],
 "metadata": {
  "kernelspec": {
   "display_name": "Python 3",
   "language": "python",
   "name": "python3"
  },
  "language_info": {
   "codemirror_mode": {
    "name": "ipython",
    "version": 3
   },
   "file_extension": ".py",
   "mimetype": "text/x-python",
   "name": "python",
   "nbconvert_exporter": "python",
   "pygments_lexer": "ipython3",
   "version": "3.10.0"
  }
 },
 "nbformat": 4,
 "nbformat_minor": 2
}
