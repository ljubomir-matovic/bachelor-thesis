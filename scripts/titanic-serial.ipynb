{
 "cells": [
  {
   "cell_type": "code",
   "execution_count": 17,
   "metadata": {},
   "outputs": [],
   "source": [
    "# Import modules\n",
    "\n",
    "import numpy as np\n",
    "import pandas as pd\n",
    "from sklearn.preprocessing import LabelEncoder\n",
    "from sklearn.model_selection import train_test_split\n",
    "from sklearn.metrics import f1_score\n",
    "from sklearn.tree import DecisionTreeClassifier\n",
    "import time\n",
    "import optuna"
   ]
  },
  {
   "cell_type": "code",
   "execution_count": 18,
   "metadata": {},
   "outputs": [],
   "source": [
    "optimization_time_in_seconds = -time.time() # start the timer"
   ]
  },
  {
   "cell_type": "code",
   "execution_count": 19,
   "metadata": {},
   "outputs": [
    {
     "name": "stderr",
     "output_type": "stream",
     "text": [
      "C:\\Users\\ljmatovic\\AppData\\Local\\Temp\\ipykernel_44676\\860548849.py:9: FutureWarning: A value is trying to be set on a copy of a DataFrame or Series through chained assignment using an inplace method.\n",
      "The behavior will change in pandas 3.0. This inplace method will never work because the intermediate object on which we are setting values always behaves as a copy.\n",
      "\n",
      "For example, when doing 'df[col].method(value, inplace=True)', try using 'df.method({col: value}, inplace=True)' or df[col] = df[col].method(value) instead, to perform the operation inplace on the original object.\n",
      "\n",
      "\n",
      "  df[\"Age\"].fillna(df[\"Age\"].mean(), inplace=True) # filling null values\n",
      "C:\\Users\\ljmatovic\\AppData\\Local\\Temp\\ipykernel_44676\\860548849.py:10: FutureWarning: A value is trying to be set on a copy of a DataFrame or Series through chained assignment using an inplace method.\n",
      "The behavior will change in pandas 3.0. This inplace method will never work because the intermediate object on which we are setting values always behaves as a copy.\n",
      "\n",
      "For example, when doing 'df[col].method(value, inplace=True)', try using 'df.method({col: value}, inplace=True)' or df[col] = df[col].method(value) instead, to perform the operation inplace on the original object.\n",
      "\n",
      "\n",
      "  df[\"Fare\"].fillna(df[\"Fare\"].mean(),inplace=True) # filling null values\n"
     ]
    }
   ],
   "source": [
    "# Load and prepare data\n",
    "\n",
    "df = pd.read_csv(\"titanic-lg.csv\")\n",
    "\n",
    "label_encoder = LabelEncoder()\n",
    "df['Sex'] = label_encoder.fit_transform(df['Sex']) # category encoding\n",
    "df['Embarked'] = label_encoder.fit_transform(df['Embarked']) # category encoding\n",
    "df.drop(columns=[\"Cabin\",\"Name\",\"Ticket\"],inplace=True) # deleting unnecessary columns\n",
    "df[\"Age\"].fillna(df[\"Age\"].mean(), inplace=True) # filling null values\n",
    "df[\"Fare\"].fillna(df[\"Fare\"].mean(),inplace=True) # filling null values\n"
   ]
  },
  {
   "cell_type": "code",
   "execution_count": 20,
   "metadata": {},
   "outputs": [],
   "source": [
    "# Split data to train and test sets\n",
    "\n",
    "x=df.drop(columns=[\"Survived\"])\n",
    "y=df[\"Survived\"]\n",
    "\n",
    "x_train,x_test,y_train,y_test = train_test_split(x,y,test_size=0.3)"
   ]
  },
  {
   "cell_type": "code",
   "execution_count": 21,
   "metadata": {},
   "outputs": [],
   "source": [
    "# Defining objective function\n",
    "\n",
    "def objective(trial: optuna.Trial):\n",
    "    md = trial.suggest_int('max_depth', 2, 64)\n",
    "    mi = trial.suggest_int('min_inst', 1, 32)\n",
    "    \n",
    "    clf =  DecisionTreeClassifier(max_depth=md, min_samples_leaf=mi, random_state=1, )\n",
    "    clf.fit(x_train, y_train)\n",
    "\n",
    "    y_pred = clf.predict(x_test)\n",
    "    \n",
    "    return f1_score(y_test, y_pred)\n"
   ]
  },
  {
   "cell_type": "code",
   "execution_count": 22,
   "metadata": {},
   "outputs": [
    {
     "name": "stderr",
     "output_type": "stream",
     "text": [
      "[I 2024-08-10 16:31:25,127] A new study created in memory with name: DecisionTreeClassifier\n",
      "[I 2024-08-10 16:31:25,777] Trial 0 finished with value: 0.631186135336059 and parameters: {'max_depth': 2, 'min_inst': 13}. Best is trial 0 with value: 0.631186135336059.\n",
      "[I 2024-08-10 16:31:29,868] Trial 1 finished with value: 0.7936816198679942 and parameters: {'max_depth': 29, 'min_inst': 1}. Best is trial 1 with value: 0.7936816198679942.\n",
      "[I 2024-08-10 16:31:30,740] Trial 2 finished with value: 0.713070000572538 and parameters: {'max_depth': 3, 'min_inst': 23}. Best is trial 1 with value: 0.7936816198679942.\n",
      "[I 2024-08-10 16:31:34,444] Trial 3 finished with value: 0.8238418439393249 and parameters: {'max_depth': 25, 'min_inst': 20}. Best is trial 3 with value: 0.8238418439393249.\n",
      "[I 2024-08-10 16:31:38,252] Trial 4 finished with value: 0.8203758941766321 and parameters: {'max_depth': 50, 'min_inst': 17}. Best is trial 3 with value: 0.8238418439393249.\n",
      "[I 2024-08-10 16:31:41,012] Trial 5 finished with value: 0.8317513356711403 and parameters: {'max_depth': 14, 'min_inst': 29}. Best is trial 5 with value: 0.8317513356711403.\n",
      "[I 2024-08-10 16:31:42,416] Trial 6 finished with value: 0.760384696036754 and parameters: {'max_depth': 5, 'min_inst': 26}. Best is trial 5 with value: 0.8317513356711403.\n",
      "[I 2024-08-10 16:31:46,230] Trial 7 finished with value: 0.8204561110909684 and parameters: {'max_depth': 46, 'min_inst': 17}. Best is trial 5 with value: 0.8317513356711403.\n",
      "[I 2024-08-10 16:31:48,671] Trial 8 finished with value: 0.8284322569005953 and parameters: {'max_depth': 11, 'min_inst': 1}. Best is trial 5 with value: 0.8317513356711403.\n",
      "[I 2024-08-10 16:31:51,737] Trial 9 finished with value: 0.8301613446463751 and parameters: {'max_depth': 16, 'min_inst': 24}. Best is trial 5 with value: 0.8317513356711403.\n",
      "[I 2024-08-10 16:31:55,388] Trial 10 finished with value: 0.826482274533337 and parameters: {'max_depth': 63, 'min_inst': 32}. Best is trial 5 with value: 0.8317513356711403.\n",
      "[I 2024-08-10 16:31:58,636] Trial 11 finished with value: 0.8290784870710521 and parameters: {'max_depth': 19, 'min_inst': 31}. Best is trial 5 with value: 0.8317513356711403.\n",
      "[I 2024-08-10 16:32:01,806] Trial 12 finished with value: 0.8303662572727314 and parameters: {'max_depth': 17, 'min_inst': 27}. Best is trial 5 with value: 0.8317513356711403.\n",
      "[I 2024-08-10 16:32:05,661] Trial 13 finished with value: 0.8261702436721502 and parameters: {'max_depth': 42, 'min_inst': 28}. Best is trial 5 with value: 0.8317513356711403.\n",
      "[I 2024-08-10 16:32:09,362] Trial 14 finished with value: 0.8262264724704643 and parameters: {'max_depth': 35, 'min_inst': 28}. Best is trial 5 with value: 0.8317513356711403.\n",
      "[I 2024-08-10 16:32:12,870] Trial 15 finished with value: 0.820914446310952 and parameters: {'max_depth': 21, 'min_inst': 10}. Best is trial 5 with value: 0.8317513356711403.\n",
      "[I 2024-08-10 16:32:15,777] Trial 16 finished with value: 0.8314246344284734 and parameters: {'max_depth': 14, 'min_inst': 21}. Best is trial 5 with value: 0.8317513356711403.\n",
      "[I 2024-08-10 16:32:18,119] Trial 17 finished with value: 0.824788267270248 and parameters: {'max_depth': 10, 'min_inst': 21}. Best is trial 5 with value: 0.8317513356711403.\n",
      "[I 2024-08-10 16:32:22,005] Trial 18 finished with value: 0.8137294004604869 and parameters: {'max_depth': 32, 'min_inst': 10}. Best is trial 5 with value: 0.8317513356711403.\n",
      "[I 2024-08-10 16:32:24,440] Trial 19 finished with value: 0.8281226128140668 and parameters: {'max_depth': 11, 'min_inst': 20}. Best is trial 5 with value: 0.8317513356711403.\n",
      "[I 2024-08-10 16:32:28,203] Trial 20 finished with value: 0.8197700815429598 and parameters: {'max_depth': 26, 'min_inst': 13}. Best is trial 5 with value: 0.8317513356711403.\n",
      "[I 2024-08-10 16:32:31,416] Trial 21 finished with value: 0.8303758091447654 and parameters: {'max_depth': 17, 'min_inst': 29}. Best is trial 5 with value: 0.8317513356711403.\n",
      "[I 2024-08-10 16:32:34,277] Trial 22 finished with value: 0.831689439454371 and parameters: {'max_depth': 14, 'min_inst': 30}. Best is trial 5 with value: 0.8317513356711403.\n",
      "[I 2024-08-10 16:32:36,435] Trial 23 finished with value: 0.8212910154803348 and parameters: {'max_depth': 9, 'min_inst': 25}. Best is trial 5 with value: 0.8317513356711403.\n",
      "[I 2024-08-10 16:32:39,944] Trial 24 finished with value: 0.8270732173928887 and parameters: {'max_depth': 24, 'min_inst': 32}. Best is trial 5 with value: 0.8317513356711403.\n",
      "[I 2024-08-10 16:32:43,887] Trial 25 finished with value: 0.8238733606017823 and parameters: {'max_depth': 38, 'min_inst': 22}. Best is trial 5 with value: 0.8317513356711403.\n",
      "[I 2024-08-10 16:32:46,421] Trial 26 finished with value: 0.8277177839109415 and parameters: {'max_depth': 11, 'min_inst': 30}. Best is trial 5 with value: 0.8317513356711403.\n",
      "[I 2024-08-10 16:32:49,490] Trial 27 finished with value: 0.8310195207782517 and parameters: {'max_depth': 15, 'min_inst': 25}. Best is trial 5 with value: 0.8317513356711403.\n",
      "[I 2024-08-10 16:32:51,094] Trial 28 finished with value: 0.7673004440887783 and parameters: {'max_depth': 6, 'min_inst': 19}. Best is trial 5 with value: 0.8317513356711403.\n",
      "[I 2024-08-10 16:32:55,084] Trial 29 finished with value: 0.8172045927131363 and parameters: {'max_depth': 56, 'min_inst': 13}. Best is trial 5 with value: 0.8317513356711403.\n",
      "[I 2024-08-10 16:32:58,830] Trial 30 finished with value: 0.8184326836677446 and parameters: {'max_depth': 21, 'min_inst': 7}. Best is trial 5 with value: 0.8317513356711403.\n",
      "[I 2024-08-10 16:33:01,761] Trial 31 finished with value: 0.8317428520232116 and parameters: {'max_depth': 14, 'min_inst': 25}. Best is trial 5 with value: 0.8317513356711403.\n",
      "[I 2024-08-10 16:33:02,372] Trial 32 finished with value: 0.631186135336059 and parameters: {'max_depth': 2, 'min_inst': 29}. Best is trial 5 with value: 0.8317513356711403.\n",
      "[I 2024-08-10 16:33:05,261] Trial 33 finished with value: 0.8315160787855885 and parameters: {'max_depth': 14, 'min_inst': 23}. Best is trial 5 with value: 0.8317513356711403.\n",
      "[I 2024-08-10 16:33:08,983] Trial 34 finished with value: 0.8245762750279915 and parameters: {'max_depth': 30, 'min_inst': 23}. Best is trial 5 with value: 0.8317513356711403.\n",
      "[I 2024-08-10 16:33:10,883] Trial 35 finished with value: 0.7976777199775507 and parameters: {'max_depth': 7, 'min_inst': 26}. Best is trial 5 with value: 0.8317513356711403.\n",
      "[I 2024-08-10 16:33:14,532] Trial 36 finished with value: 0.8270095527355561 and parameters: {'max_depth': 24, 'min_inst': 30}. Best is trial 5 with value: 0.8317513356711403.\n",
      "[I 2024-08-10 16:33:18,264] Trial 37 finished with value: 0.8266339980489575 and parameters: {'max_depth': 27, 'min_inst': 27}. Best is trial 5 with value: 0.8317513356711403.\n",
      "[I 2024-08-10 16:33:21,306] Trial 38 finished with value: 0.8311434356105503 and parameters: {'max_depth': 14, 'min_inst': 18}. Best is trial 5 with value: 0.8317513356711403.\n",
      "[I 2024-08-10 16:33:24,787] Trial 39 finished with value: 0.8264509694479774 and parameters: {'max_depth': 21, 'min_inst': 24}. Best is trial 5 with value: 0.8317513356711403.\n",
      "[I 2024-08-10 16:33:25,655] Trial 40 finished with value: 0.713070000572538 and parameters: {'max_depth': 3, 'min_inst': 16}. Best is trial 5 with value: 0.8317513356711403.\n",
      "[I 2024-08-10 16:33:28,555] Trial 41 finished with value: 0.8314521815676316 and parameters: {'max_depth': 14, 'min_inst': 22}. Best is trial 5 with value: 0.8317513356711403.\n",
      "[I 2024-08-10 16:33:31,369] Trial 42 finished with value: 0.8317166372721928 and parameters: {'max_depth': 13, 'min_inst': 23}. Best is trial 5 with value: 0.8317513356711403.\n",
      "[I 2024-08-10 16:33:33,428] Trial 43 finished with value: 0.7976777199775507 and parameters: {'max_depth': 7, 'min_inst': 26}. Best is trial 5 with value: 0.8317513356711403.\n",
      "[I 2024-08-10 16:33:37,027] Trial 44 finished with value: 0.8281600350721765 and parameters: {'max_depth': 19, 'min_inst': 24}. Best is trial 5 with value: 0.8317513356711403.\n",
      "[I 2024-08-10 16:33:39,703] Trial 45 finished with value: 0.83101340639805 and parameters: {'max_depth': 12, 'min_inst': 31}. Best is trial 5 with value: 0.8317513356711403.\n",
      "[I 2024-08-10 16:33:43,004] Trial 46 finished with value: 0.8290288995601542 and parameters: {'max_depth': 18, 'min_inst': 28}. Best is trial 5 with value: 0.8317513356711403.\n",
      "[I 2024-08-10 16:33:44,339] Trial 47 finished with value: 0.760384696036754 and parameters: {'max_depth': 5, 'min_inst': 27}. Best is trial 5 with value: 0.8317513356711403.\n",
      "[I 2024-08-10 16:33:46,502] Trial 48 finished with value: 0.821146231330323 and parameters: {'max_depth': 9, 'min_inst': 32}. Best is trial 5 with value: 0.8317513356711403.\n",
      "[I 2024-08-10 16:33:49,230] Trial 49 finished with value: 0.8323419699566489 and parameters: {'max_depth': 13, 'min_inst': 15}. Best is trial 49 with value: 0.8323419699566489.\n",
      "[I 2024-08-10 16:33:52,706] Trial 50 finished with value: 0.8255511847040526 and parameters: {'max_depth': 19, 'min_inst': 15}. Best is trial 49 with value: 0.8323419699566489.\n",
      "[I 2024-08-10 16:33:55,495] Trial 51 finished with value: 0.8323419699566489 and parameters: {'max_depth': 13, 'min_inst': 15}. Best is trial 49 with value: 0.8323419699566489.\n",
      "[I 2024-08-10 16:33:58,287] Trial 52 finished with value: 0.8323419699566489 and parameters: {'max_depth': 13, 'min_inst': 15}. Best is trial 49 with value: 0.8323419699566489.\n",
      "[I 2024-08-10 16:34:00,300] Trial 53 finished with value: 0.8104637514438162 and parameters: {'max_depth': 8, 'min_inst': 15}. Best is trial 49 with value: 0.8323419699566489.\n",
      "[I 2024-08-10 16:34:03,919] Trial 54 finished with value: 0.8221493072057909 and parameters: {'max_depth': 21, 'min_inst': 11}. Best is trial 49 with value: 0.8323419699566489.\n",
      "[I 2024-08-10 16:34:06,526] Trial 55 finished with value: 0.8320866673071556 and parameters: {'max_depth': 12, 'min_inst': 7}. Best is trial 49 with value: 0.8323419699566489.\n",
      "[I 2024-08-10 16:34:09,655] Trial 56 finished with value: 0.8277675204545349 and parameters: {'max_depth': 16, 'min_inst': 8}. Best is trial 49 with value: 0.8323419699566489.\n",
      "[I 2024-08-10 16:34:11,003] Trial 57 finished with value: 0.760384696036754 and parameters: {'max_depth': 5, 'min_inst': 4}. Best is trial 49 with value: 0.8323419699566489.\n",
      "[I 2024-08-10 16:34:13,618] Trial 58 finished with value: 0.831992163540322 and parameters: {'max_depth': 12, 'min_inst': 14}. Best is trial 49 with value: 0.8323419699566489.\n",
      "[I 2024-08-10 16:34:16,073] Trial 59 finished with value: 0.8282903079500541 and parameters: {'max_depth': 11, 'min_inst': 14}. Best is trial 49 with value: 0.8323419699566489.\n",
      "[I 2024-08-10 16:34:18,200] Trial 60 finished with value: 0.8214327066920473 and parameters: {'max_depth': 9, 'min_inst': 12}. Best is trial 49 with value: 0.8323419699566489.\n",
      "[I 2024-08-10 16:34:21,287] Trial 61 finished with value: 0.8296981876509523 and parameters: {'max_depth': 16, 'min_inst': 18}. Best is trial 49 with value: 0.8323419699566489.\n",
      "[I 2024-08-10 16:34:23,923] Trial 62 finished with value: 0.8318307048776693 and parameters: {'max_depth': 12, 'min_inst': 16}. Best is trial 49 with value: 0.8323419699566489.\n",
      "[I 2024-08-10 16:34:26,401] Trial 63 finished with value: 0.8282344882487435 and parameters: {'max_depth': 11, 'min_inst': 17}. Best is trial 49 with value: 0.8323419699566489.\n",
      "[I 2024-08-10 16:34:30,102] Trial 64 finished with value: 0.8220651309111194 and parameters: {'max_depth': 23, 'min_inst': 16}. Best is trial 49 with value: 0.8323419699566489.\n",
      "[I 2024-08-10 16:34:33,282] Trial 65 finished with value: 0.8275595869921837 and parameters: {'max_depth': 17, 'min_inst': 14}. Best is trial 49 with value: 0.8323419699566489.\n",
      "[I 2024-08-10 16:34:34,134] Trial 66 finished with value: 0.713070000572538 and parameters: {'max_depth': 3, 'min_inst': 8}. Best is trial 49 with value: 0.8323419699566489.\n",
      "[I 2024-08-10 16:34:36,728] Trial 67 finished with value: 0.8319346956704767 and parameters: {'max_depth': 12, 'min_inst': 3}. Best is trial 49 with value: 0.8323419699566489.\n",
      "[I 2024-08-10 16:34:39,046] Trial 68 finished with value: 0.8250837019930812 and parameters: {'max_depth': 10, 'min_inst': 2}. Best is trial 49 with value: 0.8323419699566489.\n",
      "[I 2024-08-10 16:34:43,169] Trial 69 finished with value: 0.7953360669711353 and parameters: {'max_depth': 46, 'min_inst': 5}. Best is trial 49 with value: 0.8323419699566489.\n",
      "[I 2024-08-10 16:34:45,771] Trial 70 finished with value: 0.8319346956704767 and parameters: {'max_depth': 12, 'min_inst': 3}. Best is trial 49 with value: 0.8323419699566489.\n",
      "[I 2024-08-10 16:34:48,523] Trial 71 finished with value: 0.8320625700368194 and parameters: {'max_depth': 13, 'min_inst': 1}. Best is trial 49 with value: 0.8323419699566489.\n",
      "[I 2024-08-10 16:34:50,529] Trial 72 finished with value: 0.8105082510720081 and parameters: {'max_depth': 8, 'min_inst': 1}. Best is trial 49 with value: 0.8323419699566489.\n",
      "[I 2024-08-10 16:34:53,205] Trial 73 finished with value: 0.8319346956704767 and parameters: {'max_depth': 12, 'min_inst': 3}. Best is trial 49 with value: 0.8323419699566489.\n",
      "[I 2024-08-10 16:34:57,420] Trial 74 finished with value: 0.7991078511815985 and parameters: {'max_depth': 62, 'min_inst': 6}. Best is trial 49 with value: 0.8323419699566489.\n",
      "[I 2024-08-10 16:35:00,648] Trial 75 finished with value: 0.8265390995859584 and parameters: {'max_depth': 16, 'min_inst': 3}. Best is trial 49 with value: 0.8323419699566489.\n",
      "[I 2024-08-10 16:35:04,163] Trial 76 finished with value: 0.8195855361891772 and parameters: {'max_depth': 19, 'min_inst': 1}. Best is trial 49 with value: 0.8323419699566489.\n",
      "[I 2024-08-10 16:35:05,509] Trial 77 finished with value: 0.760384696036754 and parameters: {'max_depth': 5, 'min_inst': 4}. Best is trial 49 with value: 0.8323419699566489.\n",
      "[I 2024-08-10 16:35:07,754] Trial 78 finished with value: 0.8214871286578418 and parameters: {'max_depth': 9, 'min_inst': 10}. Best is trial 49 with value: 0.8323419699566489.\n",
      "[I 2024-08-10 16:35:12,284] Trial 79 finished with value: 0.7809647741853291 and parameters: {'max_depth': 37, 'min_inst': 2}. Best is trial 49 with value: 0.8323419699566489.\n",
      "[I 2024-08-10 16:35:14,995] Trial 80 finished with value: 0.8323418831600012 and parameters: {'max_depth': 13, 'min_inst': 12}. Best is trial 49 with value: 0.8323419699566489.\n",
      "[I 2024-08-10 16:35:17,786] Trial 81 finished with value: 0.8323418831600012 and parameters: {'max_depth': 13, 'min_inst': 12}. Best is trial 49 with value: 0.8323419699566489.\n",
      "[I 2024-08-10 16:35:20,789] Trial 82 finished with value: 0.8306809600117884 and parameters: {'max_depth': 15, 'min_inst': 13}. Best is trial 49 with value: 0.8323419699566489.\n",
      "[I 2024-08-10 16:35:23,711] Trial 83 finished with value: 0.8323418831600012 and parameters: {'max_depth': 13, 'min_inst': 12}. Best is trial 49 with value: 0.8323419699566489.\n",
      "[I 2024-08-10 16:35:26,889] Trial 84 finished with value: 0.8276178797940692 and parameters: {'max_depth': 17, 'min_inst': 12}. Best is trial 49 with value: 0.8323419699566489.\n",
      "[I 2024-08-10 16:35:29,755] Trial 85 finished with value: 0.8326488377310459 and parameters: {'max_depth': 13, 'min_inst': 9}. Best is trial 85 with value: 0.8326488377310459.\n",
      "[I 2024-08-10 16:35:32,790] Trial 86 finished with value: 0.8301120241736375 and parameters: {'max_depth': 15, 'min_inst': 9}. Best is trial 85 with value: 0.8326488377310459.\n",
      "[I 2024-08-10 16:35:34,667] Trial 87 finished with value: 0.797683226503285 and parameters: {'max_depth': 7, 'min_inst': 11}. Best is trial 85 with value: 0.8326488377310459.\n",
      "[I 2024-08-10 16:35:38,059] Trial 88 finished with value: 0.8235790091097385 and parameters: {'max_depth': 20, 'min_inst': 12}. Best is trial 85 with value: 0.8326488377310459.\n",
      "[I 2024-08-10 16:35:41,680] Trial 89 finished with value: 0.8171396508386897 and parameters: {'max_depth': 23, 'min_inst': 9}. Best is trial 85 with value: 0.8326488377310459.\n",
      "[I 2024-08-10 16:35:43,954] Trial 90 finished with value: 0.824899367452559 and parameters: {'max_depth': 10, 'min_inst': 15}. Best is trial 85 with value: 0.8326488377310459.\n",
      "[I 2024-08-10 16:35:46,794] Trial 91 finished with value: 0.8310613886224452 and parameters: {'max_depth': 14, 'min_inst': 14}. Best is trial 85 with value: 0.8326488377310459.\n",
      "[I 2024-08-10 16:35:49,531] Trial 92 finished with value: 0.8323577637930877 and parameters: {'max_depth': 13, 'min_inst': 11}. Best is trial 85 with value: 0.8326488377310459.\n",
      "[I 2024-08-10 16:35:52,459] Trial 93 finished with value: 0.8324011854539125 and parameters: {'max_depth': 13, 'min_inst': 10}. Best is trial 85 with value: 0.8326488377310459.\n",
      "[I 2024-08-10 16:35:55,772] Trial 94 finished with value: 0.825558172527306 and parameters: {'max_depth': 18, 'min_inst': 11}. Best is trial 85 with value: 0.8326488377310459.\n",
      "[I 2024-08-10 16:35:58,596] Trial 95 finished with value: 0.8324011854539125 and parameters: {'max_depth': 13, 'min_inst': 10}. Best is trial 85 with value: 0.8326488377310459.\n",
      "[I 2024-08-10 16:36:02,205] Trial 96 finished with value: 0.8301457026927334 and parameters: {'max_depth': 15, 'min_inst': 10}. Best is trial 85 with value: 0.8326488377310459.\n",
      "[I 2024-08-10 16:36:04,712] Trial 97 finished with value: 0.8249812181752414 and parameters: {'max_depth': 10, 'min_inst': 13}. Best is trial 85 with value: 0.8326488377310459.\n",
      "[I 2024-08-10 16:36:07,566] Trial 98 finished with value: 0.8323577637930877 and parameters: {'max_depth': 13, 'min_inst': 11}. Best is trial 85 with value: 0.8326488377310459.\n",
      "[I 2024-08-10 16:36:09,562] Trial 99 finished with value: 0.8104915641016048 and parameters: {'max_depth': 8, 'min_inst': 9}. Best is trial 85 with value: 0.8326488377310459.\n"
     ]
    }
   ],
   "source": [
    "study = optuna.create_study(study_name=\"DecisionTreeClassifier\", direction='maximize')\n",
    "\n",
    "study.optimize(objective, n_trials=100)"
   ]
  },
  {
   "cell_type": "code",
   "execution_count": 23,
   "metadata": {},
   "outputs": [],
   "source": [
    "optimization_time_in_seconds += time.time() # stop the timer"
   ]
  },
  {
   "cell_type": "code",
   "execution_count": 24,
   "metadata": {},
   "outputs": [
    {
     "name": "stdout",
     "output_type": "stream",
     "text": [
      "Best params: {'max_depth': 13, 'min_inst': 9}\n",
      "Best value: 0.8326488377310459\n",
      "Optimization time: 4 m 46.18763518333435 s\n"
     ]
    }
   ],
   "source": [
    "print(\"Best params:\", study.best_params)\n",
    "print(\"Best value:\", study.best_value)\n",
    "minutes = int(optimization_time_in_seconds) // 60\n",
    "seconds = int(optimization_time_in_seconds)\n",
    "seconds = seconds % 60 + (optimization_time_in_seconds - int(optimization_time_in_seconds))    \n",
    "print(\"Optimization time: {} m {} s\".format(minutes, seconds))"
   ]
  }
 ],
 "metadata": {
  "kernelspec": {
   "display_name": "Python 3",
   "language": "python",
   "name": "python3"
  },
  "language_info": {
   "codemirror_mode": {
    "name": "ipython",
    "version": 3
   },
   "file_extension": ".py",
   "mimetype": "text/x-python",
   "name": "python",
   "nbconvert_exporter": "python",
   "pygments_lexer": "ipython3",
   "version": "3.10.0"
  }
 },
 "nbformat": 4,
 "nbformat_minor": 2
}
