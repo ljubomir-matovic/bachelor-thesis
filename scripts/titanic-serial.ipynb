{
 "cells": [
  {
   "cell_type": "code",
   "execution_count": 1,
   "metadata": {},
   "outputs": [
    {
     "name": "stderr",
     "output_type": "stream",
     "text": [
      "c:\\Users\\matov\\AppData\\Local\\Programs\\Python\\Python312\\Lib\\site-packages\\tqdm\\auto.py:21: TqdmWarning: IProgress not found. Please update jupyter and ipywidgets. See https://ipywidgets.readthedocs.io/en/stable/user_install.html\n",
      "  from .autonotebook import tqdm as notebook_tqdm\n"
     ]
    }
   ],
   "source": [
    "# Import modules\n",
    "\n",
    "import numpy as np\n",
    "import pandas as pd\n",
    "from sklearn.preprocessing import LabelEncoder\n",
    "from sklearn.model_selection import train_test_split\n",
    "from sklearn.metrics import f1_score\n",
    "from sklearn.tree import DecisionTreeClassifier\n",
    "import time\n",
    "import optuna"
   ]
  },
  {
   "cell_type": "code",
   "execution_count": 2,
   "metadata": {},
   "outputs": [
    {
     "name": "stderr",
     "output_type": "stream",
     "text": [
      "C:\\Users\\matov\\AppData\\Local\\Temp\\ipykernel_13156\\860548849.py:9: FutureWarning: A value is trying to be set on a copy of a DataFrame or Series through chained assignment using an inplace method.\n",
      "The behavior will change in pandas 3.0. This inplace method will never work because the intermediate object on which we are setting values always behaves as a copy.\n",
      "\n",
      "For example, when doing 'df[col].method(value, inplace=True)', try using 'df.method({col: value}, inplace=True)' or df[col] = df[col].method(value) instead, to perform the operation inplace on the original object.\n",
      "\n",
      "\n",
      "  df[\"Age\"].fillna(df[\"Age\"].mean(), inplace=True) # filling null values\n",
      "C:\\Users\\matov\\AppData\\Local\\Temp\\ipykernel_13156\\860548849.py:10: FutureWarning: A value is trying to be set on a copy of a DataFrame or Series through chained assignment using an inplace method.\n",
      "The behavior will change in pandas 3.0. This inplace method will never work because the intermediate object on which we are setting values always behaves as a copy.\n",
      "\n",
      "For example, when doing 'df[col].method(value, inplace=True)', try using 'df.method({col: value}, inplace=True)' or df[col] = df[col].method(value) instead, to perform the operation inplace on the original object.\n",
      "\n",
      "\n",
      "  df[\"Fare\"].fillna(df[\"Fare\"].mean(),inplace=True) # filling null values\n"
     ]
    }
   ],
   "source": [
    "# Load and prepare data\n",
    "\n",
    "df = pd.read_csv(\"titanic-lg.csv\")\n",
    "\n",
    "label_encoder = LabelEncoder()\n",
    "df['Sex'] = label_encoder.fit_transform(df['Sex']) # category encoding\n",
    "df['Embarked'] = label_encoder.fit_transform(df['Embarked']) # category encoding\n",
    "df.drop(columns=[\"Cabin\",\"Name\",\"Ticket\"],inplace=True) # deleting unnecessary columns\n",
    "df[\"Age\"].fillna(df[\"Age\"].mean(), inplace=True) # filling null values\n",
    "df[\"Fare\"].fillna(df[\"Fare\"].mean(),inplace=True) # filling null values\n"
   ]
  },
  {
   "cell_type": "code",
   "execution_count": 3,
   "metadata": {},
   "outputs": [],
   "source": [
    "# Split data to train and test sets\n",
    "\n",
    "x=df.drop(columns=[\"Survived\"])\n",
    "y=df[\"Survived\"]\n",
    "\n",
    "x_train,x_test,y_train,y_test = train_test_split(x,y,test_size=0.3)"
   ]
  },
  {
   "cell_type": "code",
   "execution_count": 4,
   "metadata": {},
   "outputs": [],
   "source": [
    "# Defining objective function\n",
    "\n",
    "def objective(trial: optuna.Trial):\n",
    "    global x_train, x_test, y_train, y_test\n",
    "\n",
    "    md = trial.suggest_int('max_depth', 2, 64)\n",
    "    mi = trial.suggest_int('min_inst', 1, 32)\n",
    "    \n",
    "    clf =  DecisionTreeClassifier(max_depth=md, min_samples_leaf=mi, random_state=1, )\n",
    "    clf.fit(x_train, y_train)\n",
    "\n",
    "    y_pred = clf.predict(x_test)\n",
    "    \n",
    "    return f1_score(y_test, y_pred)\n"
   ]
  },
  {
   "cell_type": "code",
   "execution_count": 6,
   "metadata": {},
   "outputs": [
    {
     "name": "stderr",
     "output_type": "stream",
     "text": [
      "[I 2024-08-10 10:10:03,445] A new study created in memory with name: DecisionTreeClassifier\n",
      "[I 2024-08-10 10:10:20,046] Trial 0 finished with value: 0.818681567894627 and parameters: {'max_depth': 31, 'min_inst': 13}. Best is trial 0 with value: 0.818681567894627.\n",
      "[I 2024-08-10 10:10:37,311] Trial 1 finished with value: 0.7750344556014963 and parameters: {'max_depth': 49, 'min_inst': 1}. Best is trial 0 with value: 0.818681567894627.\n",
      "[I 2024-08-10 10:10:51,695] Trial 2 finished with value: 0.8250301891246515 and parameters: {'max_depth': 38, 'min_inst': 29}. Best is trial 2 with value: 0.8250301891246515.\n",
      "[I 2024-08-10 10:11:08,211] Trial 3 finished with value: 0.8117315376713413 and parameters: {'max_depth': 45, 'min_inst': 10}. Best is trial 2 with value: 0.8250301891246515.\n",
      "[I 2024-08-10 10:11:23,365] Trial 4 finished with value: 0.8190984902163841 and parameters: {'max_depth': 28, 'min_inst': 13}. Best is trial 2 with value: 0.8250301891246515.\n",
      "[I 2024-08-10 10:11:34,236] Trial 5 finished with value: 0.8301263925479432 and parameters: {'max_depth': 15, 'min_inst': 19}. Best is trial 5 with value: 0.8301263925479432.\n",
      "[I 2024-08-10 10:11:49,675] Trial 6 finished with value: 0.8219653390310269 and parameters: {'max_depth': 26, 'min_inst': 18}. Best is trial 5 with value: 0.8301263925479432.\n",
      "[I 2024-08-10 10:12:03,204] Trial 7 finished with value: 0.8242184989671792 and parameters: {'max_depth': 22, 'min_inst': 22}. Best is trial 5 with value: 0.8301263925479432.\n",
      "[I 2024-08-10 10:12:21,177] Trial 8 finished with value: 0.8252172450014323 and parameters: {'max_depth': 47, 'min_inst': 30}. Best is trial 5 with value: 0.8301263925479432.\n",
      "[I 2024-08-10 10:12:38,669] Trial 9 finished with value: 0.773297944786883 and parameters: {'max_depth': 62, 'min_inst': 1}. Best is trial 5 with value: 0.8301263925479432.\n"
     ]
    }
   ],
   "source": [
    "study = optuna.create_study(study_name=\"DecisionTreeClassifier\", direction='maximize')\n",
    "\n",
    "optimization_time_in_seconds = -time.time()\n",
    "\n",
    "study.optimize(objective, n_trials=10)\n",
    "\n",
    "optimization_time_in_seconds += time.time()"
   ]
  },
  {
   "cell_type": "code",
   "execution_count": 7,
   "metadata": {},
   "outputs": [
    {
     "name": "stdout",
     "output_type": "stream",
     "text": [
      "Best params {'max_depth': 15, 'min_inst': 19}\n",
      "Best value 0.8301263925479432\n",
      "Optimization time in seconds 155.22390222549438\n"
     ]
    }
   ],
   "source": [
    "print(\"Best params\", study.best_params)\n",
    "print(\"Best value\", study.best_value)\n",
    "print(\"Optimization time in seconds\", optimization_time_in_seconds)"
   ]
  }
 ],
 "metadata": {
  "kernelspec": {
   "display_name": "Python 3",
   "language": "python",
   "name": "python3"
  },
  "language_info": {
   "codemirror_mode": {
    "name": "ipython",
    "version": 3
   },
   "file_extension": ".py",
   "mimetype": "text/x-python",
   "name": "python",
   "nbconvert_exporter": "python",
   "pygments_lexer": "ipython3",
   "version": "3.12.2"
  }
 },
 "nbformat": 4,
 "nbformat_minor": 2
}
