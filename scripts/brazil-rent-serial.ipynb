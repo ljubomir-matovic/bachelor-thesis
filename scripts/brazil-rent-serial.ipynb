{
 "cells": [
  {
   "cell_type": "code",
   "execution_count": 1,
   "metadata": {},
   "outputs": [
    {
     "name": "stderr",
     "output_type": "stream",
     "text": [
      "c:\\Users\\matov\\AppData\\Local\\Programs\\Python\\Python312\\Lib\\site-packages\\tqdm\\auto.py:21: TqdmWarning: IProgress not found. Please update jupyter and ipywidgets. See https://ipywidgets.readthedocs.io/en/stable/user_install.html\n",
      "  from .autonotebook import tqdm as notebook_tqdm\n"
     ]
    }
   ],
   "source": [
    "# Import modules\n",
    "\n",
    "import numpy as np\n",
    "import pandas as pd\n",
    "from sklearn.discriminant_analysis import StandardScaler\n",
    "from sklearn.model_selection import train_test_split\n",
    "from sklearn.metrics import mean_squared_error\n",
    "from sklearn.ensemble import RandomForestRegressor\n",
    "import time\n",
    "import optuna"
   ]
  },
  {
   "cell_type": "code",
   "execution_count": 2,
   "metadata": {},
   "outputs": [],
   "source": [
    "# Load and prepare data\n",
    "\n",
    "df = pd.read_csv(\"houses_to_rent_v2.csv\")\n",
    "\n",
    "df['floor'] = df['floor'].replace('-',0)\n",
    "df['floor'] = df['floor'].astype('int64')\n",
    "\n",
    "num_var = []\n",
    "for i in df.select_dtypes(include=['int64']):\n",
    "    num_var.append(i)\n",
    "    \n",
    "cat_var = []\n",
    "for i in df.select_dtypes(include=['object']):\n",
    "    cat_var.append(i)\n",
    "\n",
    "df = df.rename(columns={'hoa (R$)':'hoa','rent amount (R$)':'rent_amount','property tax (R$)':'property_tax','fire insurance (R$)':'fire_insurance','total (R$)':'target','parking spaces':'parking_spaces'})\n",
    "\n",
    "dummies_cols = ['city', 'furniture', 'animal']\n",
    "df= pd.get_dummies(df, columns = dummies_cols, drop_first=True)\n",
    "df.drop(['hoa', 'rent_amount', 'property_tax', 'fire_insurance'], axis=1, inplace=True)"
   ]
  },
  {
   "cell_type": "code",
   "execution_count": 3,
   "metadata": {},
   "outputs": [],
   "source": [
    "# Split data to train and test sets\n",
    "\n",
    "df=df.copy()\n",
    "\n",
    "def preprocessing_(df):\n",
    "    df = df.sample(frac=1.0, random_state=0).reset_index(drop=True)\n",
    "    X = df.drop('target', axis=1)\n",
    "    y = df.target\n",
    "    \n",
    "    X = pd.DataFrame(X, index=X.index, columns=X.columns)\n",
    "    \n",
    "    return X,y\n",
    "\n",
    "X, y = preprocessing_(df)\n",
    "X_train, X_test, y_train, y_test = train_test_split(X, y, test_size=0.2, random_state=1)\n",
    "\n",
    "scaler = StandardScaler()\n",
    "X_train = scaler.fit_transform(X_train)\n",
    "X_test = scaler.transform(X_test)\n"
   ]
  },
  {
   "cell_type": "code",
   "execution_count": 4,
   "metadata": {},
   "outputs": [],
   "source": [
    "# Defining objective function\n",
    "\n",
    "def objective(trial):\n",
    "    n_estimators = trial.suggest_int('n_estimators', 100, 1000)\n",
    "    max_depth = trial.suggest_int('max_depth', 5, 40)\n",
    "    min_samples_split = trial.suggest_int('min_samples_split', 4, 10)\n",
    "    \n",
    "    random_forest_regressor = RandomForestRegressor(n_estimators=n_estimators, max_depth=max_depth, min_samples_split=min_samples_split)\n",
    "    random_forest_regressor.fit(X_train, y_train)\n",
    "    \n",
    "    return np.sqrt(mean_squared_error(y_test, random_forest_regressor.predict(X_test)))"
   ]
  },
  {
   "cell_type": "code",
   "execution_count": 5,
   "metadata": {},
   "outputs": [
    {
     "name": "stderr",
     "output_type": "stream",
     "text": [
      "[I 2024-08-10 09:51:48,459] A new study created in memory with name: RandomForestRegressor\n",
      "[I 2024-08-10 09:52:15,389] Trial 0 finished with value: 8508.558933915529 and parameters: {'n_estimators': 688, 'max_depth': 15, 'min_samples_split': 7}. Best is trial 0 with value: 8508.558933915529.\n",
      "[I 2024-08-10 09:52:28,148] Trial 1 finished with value: 5858.479717646554 and parameters: {'n_estimators': 395, 'max_depth': 23, 'min_samples_split': 9}. Best is trial 1 with value: 5858.479717646554.\n",
      "[I 2024-08-10 09:52:46,834] Trial 2 finished with value: 5644.259484774211 and parameters: {'n_estimators': 572, 'max_depth': 17, 'min_samples_split': 10}. Best is trial 2 with value: 5644.259484774211.\n",
      "[I 2024-08-10 09:53:20,217] Trial 3 finished with value: 8669.151372678885 and parameters: {'n_estimators': 825, 'max_depth': 40, 'min_samples_split': 7}. Best is trial 2 with value: 5644.259484774211.\n",
      "[I 2024-08-10 09:53:51,353] Trial 4 finished with value: 5412.379838270166 and parameters: {'n_estimators': 942, 'max_depth': 21, 'min_samples_split': 10}. Best is trial 4 with value: 5412.379838270166.\n",
      "[I 2024-08-10 09:54:01,046] Trial 5 finished with value: 5845.815714713687 and parameters: {'n_estimators': 231, 'max_depth': 37, 'min_samples_split': 10}. Best is trial 4 with value: 5412.379838270166.\n",
      "[I 2024-08-10 09:54:10,518] Trial 6 finished with value: 6679.27447985129 and parameters: {'n_estimators': 304, 'max_depth': 30, 'min_samples_split': 8}. Best is trial 4 with value: 5412.379838270166.\n",
      "[I 2024-08-10 09:54:21,664] Trial 7 finished with value: 7853.121047339193 and parameters: {'n_estimators': 338, 'max_depth': 16, 'min_samples_split': 8}. Best is trial 4 with value: 5412.379838270166.\n",
      "[I 2024-08-10 09:54:42,466] Trial 8 finished with value: 6259.117175373659 and parameters: {'n_estimators': 689, 'max_depth': 40, 'min_samples_split': 9}. Best is trial 4 with value: 5412.379838270166.\n",
      "[I 2024-08-10 09:54:51,175] Trial 9 finished with value: 8691.869269423107 and parameters: {'n_estimators': 278, 'max_depth': 40, 'min_samples_split': 6}. Best is trial 4 with value: 5412.379838270166.\n"
     ]
    }
   ],
   "source": [
    "# Hyperparameter optimization\n",
    "\n",
    "study = optuna.create_study(study_name='RandomForestRegressor')\n",
    "\n",
    "optimization_time_in_seconds = -time.time()\n",
    "study.optimize(objective, n_trials=10)\n",
    "optimization_time_in_seconds += time.time()"
   ]
  },
  {
   "cell_type": "code",
   "execution_count": 6,
   "metadata": {},
   "outputs": [
    {
     "name": "stdout",
     "output_type": "stream",
     "text": [
      "Best params {'n_estimators': 942, 'max_depth': 21, 'min_samples_split': 10}\n",
      "Best value 5412.379838270166\n",
      "Optimization time in seconds 182.71023416519165\n"
     ]
    }
   ],
   "source": [
    "# Results\n",
    "\n",
    "print(\"Best params\", study.best_params)\n",
    "print(\"Best value\", study.best_value)\n",
    "print(\"Optimization time in seconds\", optimization_time_in_seconds)"
   ]
  }
 ],
 "metadata": {
  "kernelspec": {
   "display_name": "Python 3",
   "language": "python",
   "name": "python3"
  },
  "language_info": {
   "codemirror_mode": {
    "name": "ipython",
    "version": 3
   },
   "file_extension": ".py",
   "mimetype": "text/x-python",
   "name": "python",
   "nbconvert_exporter": "python",
   "pygments_lexer": "ipython3",
   "version": "3.12.2"
  }
 },
 "nbformat": 4,
 "nbformat_minor": 2
}
